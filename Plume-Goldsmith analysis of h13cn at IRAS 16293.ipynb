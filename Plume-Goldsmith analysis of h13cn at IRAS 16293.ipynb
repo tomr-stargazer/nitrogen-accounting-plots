{
 "cells": [
  {
   "cell_type": "markdown",
   "metadata": {},
   "source": [
    "Intro\n",
    "=====\n",
    "\n",
    "This is the Plume-Goldsmith analysis of H$^{13}$CN towards the low-mass Class 0 protostar, IRAS 16293-2422.\n",
    "\n",
    "I have harvested the _Herschel_ HIFI data of this source taken as part of the CHESS programme (citations?) through the _Herschel Science Archive_ (Level 2.5 processed products), reduced them myself and fit Gaussians to the significant detected lines.\n",
    "\n",
    "For the low-J lines, I have taken the integrated line fluxes from Caux et al. (2011), who observed the J=1-0, 3-2, and 4-3 lines.\n"
   ]
  },
  {
   "cell_type": "code",
   "execution_count": 86,
   "metadata": {
    "collapsed": false
   },
   "outputs": [],
   "source": [
    "from __future__ import division\n",
    "\n",
    "import matplotlib.pyplot as plt\n",
    "%matplotlib inline\n",
    "import numpy as np\n",
    "import astropy.units as u\n",
    "import astropy.constants as c\n",
    "\n",
    "# Assuming only H13CN lines are being considered.\n",
    "\n",
    "class CHESS_line_flux(object):\n",
    "    def __init__(self, flux, line_name, frequency):\n",
    "        self.flux = flux\n",
    "        self.name = line_name\n",
    "        self.freq = frequency\n",
    "\n",
    "        self.beam = self.compute_beamsize()\n",
    "    \n",
    "    def compute_beamsize(self):\n",
    "        # it uses the frequency, as well as some telescope parameters!\n",
    "        herschel_diameter = 3.5 * u.m\n",
    "        wavelength = c.c / self.freq\n",
    "        \n",
    "        theta = 1.22 * (wavelength / herschel_diameter) * u.rad\n",
    "        \n",
    "        return theta.to(u.arcsec)\n",
    "\n",
    "    \n",
    "class Caux_IRAM_line_flux(object):\n",
    "    \n",
    "    def __init__(self, flux, line_name, frequency):\n",
    "        self.flux = flux\n",
    "        self.name = line_name\n",
    "        self.freq = frequency\n",
    "\n",
    "        self.beam = self.compute_beamsize()\n",
    "    \n",
    "    def compute_beamsize(self):\n",
    "        # it uses the frequency, as well as some telescope parameters!\n",
    "        IRAM_30m_diameter = 30 * u.m\n",
    "        wavelength = c.c / self.freq\n",
    "        \n",
    "        theta = 1.22 * (wavelength / IRAM_30m_diameter) * u.rad\n",
    "        \n",
    "        return theta.to(u.arcsec)\n",
    "\n",
    "    \n",
    "class Caux_JCMT_line_flux(object):\n",
    "    def __init__(self, flux, line_name, frequency):\n",
    "        self.flux = flux\n",
    "        self.name = line_name\n",
    "        self.freq = frequency\n",
    "\n",
    "        self.beam = self.compute_beamsize()\n",
    "    \n",
    "    def compute_beamsize(self):\n",
    "        # it uses the frequency, as well as some telescope parameters!\n",
    "        JCMT_diameter = 15 * u.m\n",
    "        wavelength = c.c / self.freq\n",
    "        \n",
    "        theta = 1.22 * (wavelength / JCMT_diameter) * u.rad\n",
    "        \n",
    "        return theta.to(u.arcsec)"
   ]
  },
  {
   "cell_type": "code",
   "execution_count": 87,
   "metadata": {
    "collapsed": false
   },
   "outputs": [],
   "source": [
    "K_km_s = u.K * u.km / u.s\n",
    "\n",
    "h13cn_10 = Caux_IRAM_line_flux(1.04*u.K*u.km/u.s, \"H13CN 1-0\", 86340*u.MHz)\n",
    "h13cn_32 = Caux_IRAM_line_flux(8.16*u.K*u.km/u.s, \"H13CN 3-2\", 259011.8*u.MHz)\n",
    "h13cn_43 = Caux_JCMT_line_flux(6.90*u.K*u.km/u.s, \"H13CN 4-3\", 345339.8*u.MHz)\n",
    "\n",
    "h13cn_65 = CHESS_line_flux(0.93*K_km_s, \"H13CN 6-5\", 517970*u.MHz)\n",
    "h13cn_76 = CHESS_line_flux(1.04*K_km_s, \"H13CN 7-6\", 604268*u.MHz)\n",
    "h13cn_87 = CHESS_line_flux(1.60*K_km_s, \"H13CN 8-7\", 690552*u.MHz)\n",
    "h13cn_98 = CHESS_line_flux(1.67*K_km_s, \"H13CN 9-8\", 776820*u.MHz)\n",
    "h13cn_ten9 = CHESS_line_flux(0.88*K_km_s, \"H13CN 10-9\", 863071*u.MHz)\n",
    "\n",
    "h13cn_lines = [h13cn_10, h13cn_32, h13cn_43, h13cn_65, h13cn_76, h13cn_87, h13cn_98, h13cn_ten9]"
   ]
  },
  {
   "cell_type": "code",
   "execution_count": 88,
   "metadata": {
    "collapsed": false
   },
   "outputs": [
    {
     "name": "stdout",
     "output_type": "stream",
     "text": [
      "29.1254314654 arcsec, 86.34 GHz, 1.04 K km / s\n",
      "9.70878451377 arcsec, 259.0118 GHz, 8.16 K km / s\n",
      "14.5635675513 arcsec, 345.3398 GHz, 6.9 K km / s\n",
      "41.6133822321 arcsec, 517.97 GHz, 0.93 K km / s\n",
      "35.6704038519 arcsec, 604.268 GHz, 1.04 K km / s\n",
      "31.2134112924 arcsec, 690.552 GHz, 1.6 K km / s\n",
      "27.7470760212 arcsec, 776.82 GHz, 1.67 K km / s\n",
      "24.9741719914 arcsec, 863.071 GHz, 0.88 K km / s\n"
     ]
    }
   ],
   "source": [
    "beams = [x.beam for x in h13cn_lines]\n",
    "frequencies = [x.freq for x in h13cn_lines]\n",
    "fluxes = [x.flux for x in h13cn_lines]\n",
    "\n",
    "for x, freq, flux in zip(beams, frequencies, fluxes):\n",
    "    print \"{0}, {1}, {2}\".format(x, freq.to(u.GHz), flux)"
   ]
  },
  {
   "cell_type": "code",
   "execution_count": 89,
   "metadata": {
    "collapsed": false
   },
   "outputs": [],
   "source": [
    "\"\"\"\n",
    "http://home.strw.leidenuniv.nl/~moldata/datafiles/h13cn@xpol.dat\n",
    "!TRANS + UP + LOW + EINSTEINA(s^-1) + FREQ(GHz) + E_u(K)\n",
    "    1     2     1   2.2256e-05      86.3398600      4.14\n",
    "    2     3     2   2.1360e-04     172.6778370     12.43\n",
    "    3     4     3   7.7240e-04     259.0118140     24.86\n",
    "    4     5     4   1.8984e-03     345.3397750     41.43\n",
    "    5     6     5   3.7923e-03     431.6597890     62.15\n",
    "    6     7     6   6.6521e-03     517.9698290     87.01\n",
    "    7     8     7   1.0680e-02     604.2679030    116.01\n",
    "    8     9     8   1.6074e-02     690.5520680    149.15\n",
    "    9    10     9   2.3033e-02     776.8203590    186.43\n",
    "   10    11    10   3.1755e-02     863.0706350    227.85\n",
    "\"\"\"\n",
    "\n",
    "A_10 = 2.2256e-05\n",
    "A_21 = 2.1360e-04\n",
    "A_32 = 7.7240e-04\n",
    "A_43 = 1.8984e-03\n",
    "A_54 = 3.7923e-03\n",
    "A_65 = 6.6521e-03\n",
    "A_76 = 1.0680e-02\n",
    "A_87 = 1.6074e-02\n",
    "A_98 = 2.3033e-02\n",
    "A_ten9 = 3.1755e-02\n",
    "\n",
    "h13cn_Auls = [A_10, A_32, A_43, A_65, A_76, A_87, A_98, A_ten9]\n",
    "h13cn_Auls = [x / u.s for x in h13cn_Auls]"
   ]
  },
  {
   "cell_type": "code",
   "execution_count": 90,
   "metadata": {
    "collapsed": false
   },
   "outputs": [],
   "source": [
    "def N_upper_from_line(line_object, A_ul):\n",
    "    \n",
    "    N_u = (\n",
    "     (8*np.pi * c.k_B * line_object.freq**2) / \n",
    "        (A_ul * c.h * c.c**3) * \n",
    "        line_object.flux\n",
    "        )\n",
    "    \n",
    "    return N_u.to(u.cm**-2)"
   ]
  },
  {
   "cell_type": "code",
   "execution_count": 91,
   "metadata": {
    "collapsed": false
   },
   "outputs": [
    {
     "name": "stdout",
     "output_type": "stream",
     "text": [
      "[  6.77041507e+11   1.37750116e+12   8.42480022e+11   7.29018203e+10\n",
      "   6.91076712e+10   9.22558199e+10   8.50377459e+10   4.01207075e+10] 1 / cm2\n"
     ]
    }
   ],
   "source": [
    "N_upper_array_beamfilled = [N_upper_from_line(line_xx, A_xx) for line_xx, A_xx in zip(h13cn_lines, h13cn_Auls)]\n",
    "\n",
    "print u.Quantity(N_upper_array_beamfilled)"
   ]
  },
  {
   "cell_type": "code",
   "execution_count": 99,
   "metadata": {
    "collapsed": false
   },
   "outputs": [
    {
     "name": "stdout",
     "output_type": "stream",
     "text": [
      "[  2.92502876e+15   6.61289774e+14   9.10050034e+14   6.42946022e+14\n",
      "   4.47829213e+14   4.57768972e+14   3.33438925e+14   1.27444439e+14] 1 / cm2\n"
     ]
    }
   ],
   "source": [
    "source_size = 0.5 * u.arcsec\n",
    "source_area = np.pi * (source_size/2)**2\n",
    "\n",
    "N_u_beam_corrected = u.Quantity(\n",
    "    [N_upper_from_line(line_xx, A_xx) * line_xx.beam**2/source_area for line_xx, A_xx in zip(h13cn_lines, h13cn_Auls)])\n",
    "\n",
    "print N_u_beam_corrected"
   ]
  },
  {
   "cell_type": "code",
   "execution_count": 98,
   "metadata": {
    "collapsed": false
   },
   "outputs": [
    {
     "name": "stdout",
     "output_type": "stream",
     "text": [
      "1696.58151609 arcsec\n"
     ]
    }
   ],
   "source": [
    "print h13cn_10.beam**2 / source_size"
   ]
  },
  {
   "cell_type": "code",
   "execution_count": 123,
   "metadata": {
    "collapsed": false
   },
   "outputs": [
    {
     "data": {
      "image/png": "[encoded data removed]",
      "text/plain": [
       "<matplotlib.figure.Figure at 0x1117b5510>"
      ]
     },
     "metadata": {},
     "output_type": "display_data"
    }
   ],
   "source": [
    "fig = plt.figure()\n",
    "\n",
    "plt.plot([1,3,4,6,7,8,9,10], N_u_beam_corrected, 'ro-')\n",
    "plt.title(\"H$^{13}$CN populations in each state, \\nbeam-corrected to 0.5''\", fontsize=14)\n",
    "#plt.plot([1,4,6,7], u.Quantity([N_1_nw, N_4_nw, N_6, N_7]), 'bo-')\n",
    "plt.xlabel(\"$J_u$\", fontsize=16)\n",
    "plt.ylabel(\"N upper\", fontsize=16)\n",
    "#plt.xlim(0,8)\n",
    "\n",
    "# fig2 = plt.figure()\n",
    "# plt.plot([1,4,6,7], u.Quantity([N_1_beamcorr, N_4_beamcorr, N_6_beamcorr, N_7_beamcorr]), 'ro-')\n",
    "# plt.plot([1,4,6,7], u.Quantity([N_1_nw_beamcorr, N_4_nw_beamcorr, N_6_beamcorr, N_7_beamcorr]), 'bo-')\n",
    "# plt.title(\"Populations in each state, \\nbeam-corrected to 15''\")\n",
    "# plt.xlabel(\"$J_u$\", fontsize=16)\n",
    "# plt.ylabel(\"N upper\", fontsize=16)\n",
    "# plt.xlim(0,8)\n",
    "\n",
    "plt.text(7, 2.5e15, \"IRAS 16293\", fontsize=18)\n",
    "\n",
    "plt.text(1.1, 1.5e15, \"IRAM-30m\", fontsize=16)\n",
    "plt.text(3.75, 1.1e15, \"JCMT\", fontsize=16)\n",
    "plt.text(5.5, 0.8e15, \"HIFI $\\\\rightarrow$\", fontsize=16)\n",
    "\n",
    "plt.show()"
   ]
  },
  {
   "cell_type": "code",
   "execution_count": 102,
   "metadata": {
    "collapsed": false
   },
   "outputs": [
    {
     "data": {
      "text/latex": [
       "$6.5057961 \\times 10^{15} \\; \\mathrm{\\frac{1}{cm^{2}}}$"
      ],
      "text/plain": [
       "<Quantity 6505796135357689.0 1 / cm2>"
      ]
     },
     "execution_count": 102,
     "metadata": {},
     "output_type": "execute_result"
    }
   ],
   "source": [
    "np.sum(N_u_beam_corrected)"
   ]
  },
  {
   "cell_type": "code",
   "execution_count": null,
   "metadata": {
    "collapsed": true
   },
   "outputs": [],
   "source": []
  }
 ],
 "metadata": {
  "kernelspec": {
   "display_name": "Python 2",
   "language": "python",
   "name": "python2"
  },
  "language_info": {
   "codemirror_mode": {
    "name": "ipython",
    "version": 2
   },
   "file_extension": ".py",
   "mimetype": "text/x-python",
   "name": "python",
   "nbconvert_exporter": "python",
   "pygments_lexer": "ipython2",
   "version": "2.7.12"
  }
 },
 "nbformat": 4,
 "nbformat_minor": 0
}
