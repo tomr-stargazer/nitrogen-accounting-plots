{
 "cells": [
  {
   "cell_type": "markdown",
   "metadata": {},
   "source": [
    "Intro\n",
    "=====\n",
    "\n",
    "This is the Plume-Goldsmith analysis of H$^{13}$CN towards the low-mass Class 0 protostar, IRAS 16293-2422.\n",
    "\n",
    "I have harvested the _Herschel_ HIFI data of this source taken as part of the CHESS programme (citations?) through the _Herschel Science Archive_ (Level 2.5 processed products), reduced them myself and fit Gaussians to the significant detected lines.\n",
    "\n",
    "For the low-J lines, I have taken the integrated line fluxes from Caux et al. (2011), who observed the J=1-0, 3-2, and 4-3 lines.\n"
   ]
  },
  {
   "cell_type": "code",
   "execution_count": 22,
   "metadata": {
    "collapsed": false
   },
   "outputs": [],
   "source": [
    "import matplotlib.pyplot as plt\n",
    "%matplotlib inline\n",
    "import numpy as np\n",
    "import astropy.units as u\n",
    "import astropy.constants as c\n",
    "\n",
    "# Assuming only H13CN lines are being considered.\n",
    "\n",
    "class CHESS_line_flux(object):\n",
    "    def __init__(self, flux, line_name, frequency):\n",
    "        self.flux = flux\n",
    "        self.name = line_name\n",
    "        self.freq = frequency\n",
    "\n",
    "        self.beam = self.compute_beamsize()\n",
    "    \n",
    "    def compute_beamsize(self):\n",
    "        # it uses the frequency, as well as some telescope parameters!\n",
    "        herschel_diameter = 3.5 * u.m\n",
    "        wavelength = c.c / self.freq\n",
    "        \n",
    "        theta = 1.22 * (wavelength / herschel_diameter) * u.rad\n",
    "        \n",
    "        return theta.to(u.arcsec)\n",
    "\n",
    "    \n",
    "class Caux_IRAM_line_flux(object):\n",
    "    \n",
    "    def __init__(self, flux, line_name, frequency):\n",
    "        self.flux = flux\n",
    "        self.name = line_name\n",
    "        self.freq = frequency\n",
    "\n",
    "        self.beam = self.compute_beamsize()\n",
    "    \n",
    "    def compute_beamsize(self):\n",
    "        # it uses the frequency, as well as some telescope parameters!\n",
    "        IRAM_30m_diameter = 30 * u.m\n",
    "        wavelength = c.c / self.freq\n",
    "        \n",
    "        theta = 1.22 * (wavelength / IRAM_30m_diameter) * u.rad\n",
    "        \n",
    "        return theta.to(u.arcsec)\n",
    "\n",
    "    \n",
    "class Caux_JCMT_line_flux(object):\n",
    "    def __init__(self, flux, line_name, frequency):\n",
    "        self.flux = flux\n",
    "        self.name = line_name\n",
    "        self.freq = frequency\n",
    "\n",
    "        self.beam = self.compute_beamsize()\n",
    "    \n",
    "    def compute_beamsize(self):\n",
    "        # it uses the frequency, as well as some telescope parameters!\n",
    "        JCMT_diameter = 15 * u.m\n",
    "        wavelength = c.c / self.freq\n",
    "        \n",
    "        theta = 1.22 * (wavelength / JCMT_diameter) * u.rad\n",
    "        \n",
    "        return theta.to(u.arcsec)"
   ]
  },
  {
   "cell_type": "code",
   "execution_count": 23,
   "metadata": {
    "collapsed": false
   },
   "outputs": [],
   "source": [
    "K_km_s = u.K * u.km / u.s\n",
    "\n",
    "h13cn_10 = Caux_IRAM_line_flux(1.04*u.K*u.km/u.s, \"H13CN 1-0\", 86340*u.MHz)\n",
    "h13cn_32 = Caux_IRAM_line_flux(8.16*u.K*u.km/u.s, \"H13CN 3-2\", 259011.8*u.MHz)\n",
    "h13cn_43 = Caux_JCMT_line_flux(6.90*u.K*u.km/u.s, \"H13CN 4-3\", 345339.8*u.MHz)\n",
    "\n",
    "h13cn_65 = CHESS_line_flux(0.93*K_km_s, \"H13CN 6-5\", 517970*u.MHz)\n",
    "h13cn_76 = CHESS_line_flux(1.04*K_km_s, \"H13CN 7-6\", 604268*u.MHz)\n",
    "h13cn_87 = CHESS_line_flux(1.60*K_km_s, \"H13CN 8-7\", 690552*u.MHz)\n",
    "h13cn_98 = CHESS_line_flux(1.67*K_km_s, \"H13CN 9-8\", 776820*u.MHz)\n",
    "h13cn_ten9 = CHESS_line_flux(0.88*K_km_s, \"H13CN 10-9\", 863071*u.MHz)\n",
    "\n",
    "h13cn_lines = [h13cn_10, h13cn_32, h13cn_43, h13cn_65, h13cn_76, h13cn_87, h13cn_98, h13cn_ten9]"
   ]
  },
  {
   "cell_type": "code",
   "execution_count": 38,
   "metadata": {
    "collapsed": false
   },
   "outputs": [
    {
     "name": "stdout",
     "output_type": "stream",
     "text": [
      "29.1254314654 arcsec, 86.34 GHz\n",
      "9.70878451377 arcsec, 259.0118 GHz\n",
      "14.5635675513 arcsec, 345.3398 GHz\n",
      "41.6133822321 arcsec, 517.97 GHz\n",
      "35.6704038519 arcsec, 604.268 GHz\n",
      "31.2134112924 arcsec, 690.552 GHz\n",
      "27.7470760212 arcsec, 776.82 GHz\n",
      "24.9741719914 arcsec, 863.071 GHz\n"
     ]
    }
   ],
   "source": [
    "beams = [x.beam for x in h13cn_lines]\n",
    "frequencies = [x.freq for x in h13cn_lines]\n",
    "\n",
    "for x, freq in zip(beams, frequencies):\n",
    "    print \"{0}, {1}\".format(x, freq.to(u.GHz))"
   ]
  },
  {
   "cell_type": "code",
   "execution_count": null,
   "metadata": {
    "collapsed": true
   },
   "outputs": [],
   "source": [
    "\"\"\" http://home.strw.leidenuniv.nl/~moldata/datafiles/h13cn@xpol.dat\n",
    "!TRANS + UP + LOW + EINSTEINA(s^-1) + FREQ(GHz) + E_u(K)\n",
    "    1     2     1   2.2256e-05      86.3398600      4.14\n",
    "    2     3     2   2.1360e-04     172.6778370     12.43\n",
    "    3     4     3   7.7240e-04     259.0118140     24.86\n",
    "    4     5     4   1.8984e-03     345.3397750     41.43\n",
    "    5     6     5   3.7923e-03     431.6597890     62.15\n",
    "    6     7     6   6.6521e-03     517.9698290     87.01\n",
    "    7     8     7   1.0680e-02     604.2679030    116.01\n",
    "    8     9     8   1.6074e-02     690.5520680    149.15\n",
    "    9    10     9   2.3033e-02     776.8203590    186.43\"\"\"\n",
    "\n"
   ]
  }
 ],
 "metadata": {
  "kernelspec": {
   "display_name": "Python 2",
   "language": "python",
   "name": "python2"
  },
  "language_info": {
   "codemirror_mode": {
    "name": "ipython",
    "version": 2
   },
   "file_extension": ".py",
   "mimetype": "text/x-python",
   "name": "python",
   "nbconvert_exporter": "python",
   "pygments_lexer": "ipython2",
   "version": "2.7.12"
  }
 },
 "nbformat": 4,
 "nbformat_minor": 0
}
