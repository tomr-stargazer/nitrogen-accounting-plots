{
 "cells": [
  {
   "cell_type": "markdown",
   "metadata": {},
   "source": [
    "Here I'm attempting to do a \"Plume/Goldsmith analysis\" of HCN isotopologues towards the intermediate-mass protostar OMC-2 FIR4. I am focusing on H<sup>13</sup>CN, whose low-J lines (1-0 and 4-3) were observed in [Shimajiri+2015](http://adsabs.harvard.edu/abs/2015ApJS..221...31S), and whose high-J lines (6-5 and 7-6) were observed in [Kama+2013](http://adsabs.harvard.edu/abs/2013A%26A...556A..57K)."
   ]
  },
  {
   "cell_type": "code",
   "execution_count": 1,
   "metadata": {
    "collapsed": true
   },
   "outputs": [],
   "source": [
    "import matplotlib.pyplot as plt\n",
    "%matplotlib inline\n",
    "import numpy as np\n",
    "import astropy.units as u\n",
    "import astropy.constants as c\n",
    "\n",
    "# In Shimajiri, the lines are listed with T_peak and V_fwhm. \n",
    "# To get something like an \"integrated flux\" we do\n",
    "# flux = 1.0645 * T_peak * V_fwhm.\n",
    "\n",
    "class Shimajiri_line_flux(object):\n",
    "    def __init__(self, T_peak, V_fwhm, line_name, frequency, beamsize):\n",
    "        self.T_peak = T_peak\n",
    "        self.V_fwhm = V_fwhm\n",
    "        self.name = line_name\n",
    "        self.freq = frequency\n",
    "        self.beam = beamsize\n",
    "        \n",
    "        self.flux = self.flux_from_peak_intensity_and_linewidth()\n",
    "    \n",
    "    def flux_from_peak_intensity_and_linewidth(self):\n",
    "        \n",
    "        flux = 1.0645 * self.T_peak * self.V_fwhm\n",
    "        \n",
    "        return flux\n",
    "    \n",
    "# Beamsize? From Table 2 of Shimajiri+15\n",
    "beam_100Ghz = 15.1 * u.arcsec\n",
    "beam_345GHz = 19.7 * u.arcsec\n",
    "    \n",
    "# I'm just gonna sum the T_peaks from each of the 3 hyperfine components, since they\n",
    "# are all optically thin & have same V_fwhm.\n",
    "h13cn_10_narrow = Shimajiri_line_flux(\n",
    "    (0.358 + 0.613 + 0.100)*u.K, 1.83 * u.km/u.s, \n",
    "    \"h13cn 1-0 narrow\", 86.340*u.GHz, beam_100Ghz*(100/86.3) )\n",
    "\n",
    "h13cn_10_wide = Shimajiri_line_flux(\n",
    "    (0.041 + 0.07 + 0.011)*u.K, 8.7 * u.km/u.s, \n",
    "    \"h13cn 1-0 wide\", 86.340*u.GHz, beam_100Ghz*(100/86.3) )\n",
    "\n",
    "h13cn_43_narrow = Shimajiri_line_flux(\n",
    "    0.259*u.K, 1.68*u.km/u.s, \n",
    "    \"h13cn 4-3 narrow\", 345.339752*u.GHz, beam_345GHz )\n",
    "\n",
    "h13cn_43_wide = Shimajiri_line_flux(\n",
    "    0.305*u.K, 8.02*u.km/u.s, \n",
    "    \"h13cn 4-3 wide\", 345.339752*u.GHz, beam_345GHz )\n"
   ]
  },
  {
   "cell_type": "code",
   "execution_count": 3,
   "metadata": {
    "collapsed": false
   },
   "outputs": [
    {
     "name": "stdout",
     "output_type": "stream",
     "text": [
      "2.086345485 K km / s\n",
      "1.1298603 K km / s\n",
      "0.46318524 K km / s\n",
      "2.60387345 K km / s\n"
     ]
    }
   ],
   "source": [
    "print h13cn_10_narrow.flux\n",
    "print h13cn_10_wide.flux\n",
    "print h13cn_43_narrow.flux\n",
    "print h13cn_43_wide.flux"
   ]
  },
  {
   "cell_type": "code",
   "execution_count": 4,
   "metadata": {
    "collapsed": true
   },
   "outputs": [],
   "source": [
    "class Kama_line_flux(object):\n",
    "    def __init__(self, flux, V_fwhm, line_name, frequency, beamsize):\n",
    "        self.flux = flux\n",
    "        self.V_fwhm = V_fwhm\n",
    "        self.name = line_name\n",
    "        self.freq = frequency\n",
    "        self.beam = beamsize\n",
    "        \n",
    "h13cn_65 = Kama_line_flux(\n",
    "    0.96*u.K*u.km/u.s, 8.87*u.km/u.s, \"h13cn 6-5\", 517.970*u.GHz, 41*u.arcsec)\n",
    "\n",
    "h13cn_76 = Kama_line_flux(\n",
    "    0.62*u.K*u.km/u.s, 11.10*u.km/u.s, \"h13cn 6-5\", 517.970*u.GHz, 41*u.arcsec)"
   ]
  },
  {
   "cell_type": "code",
   "execution_count": 5,
   "metadata": {
    "collapsed": false
   },
   "outputs": [
    {
     "name": "stdout",
     "output_type": "stream",
     "text": [
      "0.96 K km / s\n",
      "0.62 K km / s\n"
     ]
    }
   ],
   "source": [
    "print h13cn_65.flux\n",
    "print h13cn_76.flux"
   ]
  },
  {
   "cell_type": "markdown",
   "metadata": {},
   "source": [
    "Here's how to get the $N_u$ from an integrated intensity, according to Goldsmith, Bergin, Lis 1997:\n",
    "\n",
    "$$ N_u (\\textrm{cm}^{-2}) = \\frac{8\\pi \\times 10^5 k \\nu^2}{A_{ul} hc^3} \\int T_\\textrm{mb} d\\nu$$\n",
    "\n",
    "The above equation assumes that you are inputting the variables in the following units:\n",
    "* $k$: Boltzmann constant (ergs/K)\n",
    "* $\\nu$: transition frequency (Hz)\n",
    "* $A_{ul}$: spontaneous decay rate (s$^{-1}$)\n",
    "* $h$: Planck's constant (ergs s)\n",
    "* $c$: speed of light (cm s$^{-1}$)\n",
    "* $\\int T_\\textrm{mb} d\\nu$: integrated brightness temperature (K km s$^{-1}$)\n",
    "\n",
    "In the below calculations, I have astropy to do the unit handling properly, which makes the factor $10^5$ in the above equation redundant. I therefore use\n",
    "\n",
    "$$ N_u (\\textrm{cm}^{-2}) = \\frac{8\\pi k \\nu^2}{A_{ul} hc^3} \\int T_\\textrm{mb} d\\nu$$\n"
   ]
  },
  {
   "cell_type": "code",
   "execution_count": 10,
   "metadata": {
    "collapsed": false
   },
   "outputs": [
    {
     "name": "stdout",
     "output_type": "stream",
     "text": [
      "1.35821393392e+12 1 / cm2\n",
      "7.35540692504e+11 1 / cm2\n",
      "56554232275.0 1 / cm2\n",
      "3.17929094429e+11 1 / cm2\n",
      "1.72484444444\n",
      "1.36066052397\n",
      "7.47111111111\n"
     ]
    }
   ],
   "source": [
    "\"\"\" http://home.strw.leidenuniv.nl/~moldata/datafiles/h13cn@xpol.dat\n",
    "!TRANS + UP + LOW + EINSTEINA(s^-1) + FREQ(GHz) + E_u(K)\n",
    "    1     2     1   2.2256e-05      86.3398600      4.14\n",
    "    2     3     2   2.1360e-04     172.6778370     12.43\n",
    "    3     4     3   7.7240e-04     259.0118140     24.86\n",
    "    4     5     4   1.8984e-03     345.3397750     41.43\n",
    "    5     6     5   3.7923e-03     431.6597890     62.15\n",
    "    6     7     6   6.6521e-03     517.9698290     87.01\n",
    "    7     8     7   1.0680e-02     604.2679030    116.01\n",
    "    8     9     8   1.6074e-02     690.5520680    149.15\n",
    "    9    10     9   2.3033e-02     776.8203590    186.43\"\"\"\n",
    "\n",
    "A_10 = 2.2256e-05 / u.s\n",
    "A_43 = 1.8984e-03 / u.s\n",
    "A_65 = 6.6521e-03 / u.s\n",
    "A_76 = 1.0680e-02 / u.s\n",
    "\n",
    "def N_upper_from_line(line_object, A_ul):\n",
    "    \n",
    "    N_u = (\n",
    "     (8*np.pi * c.k_B * line_object.freq**2) / \n",
    "        (A_ul * c.h * c.c**3) * \n",
    "        line_object.flux\n",
    "        )\n",
    "    \n",
    "    return N_u.to(u.cm**-2)\n",
    "\n",
    "print N_upper_from_line(h13cn_10_narrow, A_10)\n",
    "print N_upper_from_line(h13cn_10_wide, A_10)\n",
    "print N_upper_from_line(h13cn_43_narrow, A_43)\n",
    "print N_upper_from_line(h13cn_43_wide, A_43)\n",
    "\n",
    "N_7 = N_upper_from_line(h13cn_76, A_76)\n",
    "N_6 = N_upper_from_line(h13cn_65, A_65)\n",
    "N_4 = N_upper_from_line(h13cn_43_wide, A_43)\n",
    "N_1 = N_upper_from_line(h13cn_10_wide, A_10)\n",
    "\n",
    "N_4_nw = N_upper_from_line(h13cn_43_narrow, A_43) + N_4\n",
    "N_1_nw = N_upper_from_line(h13cn_10_narrow, A_10) + N_1\n",
    "\n",
    "source_size = 15*u.arcsec\n",
    "\n",
    "N_7_beamcorr = N_7 * (h13cn_76.beam/source_size)**2\n",
    "N_6_beamcorr = N_6 * (h13cn_65.beam/source_size)**2\n",
    "N_4_beamcorr = N_4 * (h13cn_43_wide.beam/source_size)**2\n",
    "N_1_beamcorr = N_1 * (h13cn_10_wide.beam/source_size)**2\n",
    "\n",
    "N_4_nw_beamcorr = N_4_nw * (h13cn_43_wide.beam/source_size)**2\n",
    "N_1_nw_beamcorr = N_1_nw * (h13cn_10_wide.beam/source_size)**2\n",
    "\n",
    "print (h13cn_43_wide.beam/source_size)**2\n",
    "print (h13cn_10_wide.beam/source_size)**2\n",
    "print (h13cn_76.beam/source_size)**2"
   ]
  },
  {
   "cell_type": "code",
   "execution_count": 15,
   "metadata": {
    "collapsed": false
   },
   "outputs": [
    {
     "data": {
      "image/png": "[encoded data removed]",
      "text/plain": [
       "<matplotlib.figure.Figure at 0x11101c250>"
      ]
     },
     "metadata": {},
     "output_type": "display_data"
    },
    {
     "data": {
      "image/png": "[encoded data removed]",
      "text/plain": [
       "<matplotlib.figure.Figure at 0x1111b6690>"
      ]
     },
     "metadata": {},
     "output_type": "display_data"
    }
   ],
   "source": [
    "fig = plt.figure()\n",
    "\n",
    "plt.plot([1,4,6,7], u.Quantity([N_1, N_4, N_6, N_7]), 'ro-')\n",
    "plt.title(\"H13CN populations in each state, \\nassuming a filled beam\")\n",
    "#plt.plot([1,4,6,7], u.Quantity([N_1_nw, N_4_nw, N_6, N_7]), 'bo-')\n",
    "plt.xlabel(\"$J_u$\", fontsize=16)\n",
    "plt.ylabel(\"N upper\", fontsize=16)\n",
    "plt.xlim(0,8)\n",
    "\n",
    "fig2 = plt.figure()\n",
    "plt.plot([1,4,6,7], u.Quantity([N_1_beamcorr, N_4_beamcorr, N_6_beamcorr, N_7_beamcorr]), 'ro-')\n",
    "plt.plot([1,4,6,7], u.Quantity([N_1_nw_beamcorr, N_4_nw_beamcorr, N_6_beamcorr, N_7_beamcorr]), 'bo-')\n",
    "plt.title(\"Populations in each state, \\nbeam-corrected to 15''\")\n",
    "plt.xlabel(\"$J_u$\", fontsize=16)\n",
    "plt.ylabel(\"N upper\", fontsize=16)\n",
    "plt.xlim(0,8)\n",
    "\n",
    "plt.show()\n",
    "\n"
   ]
  },
  {
   "cell_type": "code",
   "execution_count": 9,
   "metadata": {
    "collapsed": false
   },
   "outputs": [
    {
     "name": "stdout",
     "output_type": "stream",
     "text": [
      "1.15899482678e+12 1 / cm2\n",
      "2.33758871405e+12 1 / cm2\n",
      "3.25662725086e+12 1 / cm2\n",
      "4.28320405039e+12 1 / cm2\n"
     ]
    }
   ],
   "source": [
    "print sum([N_1, N_4, N_6, N_7])\n",
    "print sum([N_1_beamcorr, N_4_beamcorr, N_6_beamcorr, N_7_beamcorr])\n",
    "print sum([N_1_nw, N_4_nw, N_6_beamcorr, N_7_beamcorr])\n",
    "print sum([N_1_nw_beamcorr, N_4_nw_beamcorr, N_6_beamcorr, N_7_beamcorr])"
   ]
  },
  {
   "cell_type": "code",
   "execution_count": 47,
   "metadata": {
    "collapsed": false
   },
   "outputs": [
    {
     "name": "stdout",
     "output_type": "stream",
     "text": [
      "7.47111111111\n"
     ]
    }
   ],
   "source": [
    "print N_7_beamcorr / N_7"
   ]
  },
  {
   "cell_type": "code",
   "execution_count": null,
   "metadata": {
    "collapsed": true
   },
   "outputs": [],
   "source": []
  }
 ],
 "metadata": {
  "kernelspec": {
   "display_name": "Python 2",
   "language": "python",
   "name": "python2"
  },
  "language_info": {
   "codemirror_mode": {
    "name": "ipython",
    "version": 2
   },
   "file_extension": ".py",
   "mimetype": "text/x-python",
   "name": "python",
   "nbconvert_exporter": "python",
   "pygments_lexer": "ipython2",
   "version": "2.7.12"
  }
 },
 "nbformat": 4,
 "nbformat_minor": 0
}
