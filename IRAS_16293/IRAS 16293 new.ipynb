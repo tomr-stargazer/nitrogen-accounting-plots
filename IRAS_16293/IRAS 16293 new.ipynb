{
 "cells": [
  {
   "cell_type": "markdown",
   "metadata": {},
   "source": [
    "New notebook as of 19 Jan 2017.\n",
    "\n",
    "Intro\n",
    "=====\n",
    "\n"
   ]
  },
  {
   "cell_type": "markdown",
   "metadata": {},
   "source": [
    "I'd like to show an image/plot of all the H$^{13}$CN spectral lines as like a little grid here. Let's say..."
   ]
  },
  {
   "cell_type": "code",
   "execution_count": 1,
   "metadata": {
    "collapsed": false
   },
   "outputs": [
    {
     "name": "stdout",
     "output_type": "stream",
     "text": [
      "Populating the interactive namespace from numpy and matplotlib\n"
     ]
    }
   ],
   "source": [
    "from __future__ import division\n",
    "import numpy as np\n",
    "import matplotlib.pyplot as plt\n",
    "%pylab inline"
   ]
  },
  {
   "cell_type": "code",
   "execution_count": 9,
   "metadata": {
    "collapsed": false
   },
   "outputs": [
    {
     "data": {
      "image/png": "[encoded data removed]",
      "text/plain": [
       "<matplotlib.figure.Figure at 0x112735a50>"
      ]
     },
     "metadata": {},
     "output_type": "display_data"
    }
   ],
   "source": [
    "# one important thing: I need to (in some sense) fundamentally start \n",
    "# with the optical depth derivations from h13cn/hc15n.\n",
    "\n",
    "spectrum_fig = plt.figure(figsize=(18,7.5))\n",
    "# a row of each h13cn line\n",
    "ax_h13cn_65 = spectrum_fig.add_subplot(251)\n",
    "ax_h13cn_76 = spectrum_fig.add_subplot(252)\n",
    "ax_h13cn_87 = spectrum_fig.add_subplot(253)\n",
    "ax_h13cn_98 = spectrum_fig.add_subplot(254)\n",
    "ax_h13cn_ten9 = spectrum_fig.add_subplot(255)\n",
    "\n",
    "# a row of each hc15n line\n",
    "ax_hc15n_65 = spectrum_fig.add_subplot(256)\n",
    "ax_hc15n_76 = spectrum_fig.add_subplot(257)\n",
    "ax_hc15n_87 = spectrum_fig.add_subplot(258)\n",
    "ax_hc15n_98 = spectrum_fig.add_subplot(259)\n",
    "ax_hc15n_ten9 = spectrum_fig.add_subplot(2,5,10)\n",
    "\n",
    "plt.show()"
   ]
  },
  {
   "cell_type": "markdown",
   "metadata": {},
   "source": [
    "Optical Depth\n",
    "=============\n",
    "\n",
    "Let's put the tau equation.\n",
    "\n",
    "\\begin{equation}\n",
    "    \\frac{T_B (\\rm{H^{13}CN})}{T_B (\\rm{HC^{15}N})} = \\frac{T_{\\rm{ex, H^{13}CN}}(1-e^{-\\tau_{\\rm{H^{13}CN}}})}{T_{\\rm{ex, HC^{15}N}}(1-e^{-\\tau_{\\rm{HC^{15}N}}})}\n",
    "\\end{equation}\n"
   ]
  },
  {
   "cell_type": "code",
   "execution_count": 11,
   "metadata": {
    "collapsed": false
   },
   "outputs": [
    {
     "data": {
      "text/plain": [
       "[<matplotlib.lines.Line2D at 0x111868090>]"
      ]
     },
     "execution_count": 11,
     "metadata": {},
     "output_type": "execute_result"
    },
    {
     "data": {
      "image/png": "[encoded data removed]",
      "text/plain": [
       "<matplotlib.figure.Figure at 0x1118e8e90>"
      ]
     },
     "metadata": {},
     "output_type": "display_data"
    }
   ],
   "source": [
    "# at the moment the following optical depths are just \n",
    "# tucked away in notebooks.\n",
    "\n",
    "tau_fig = plt.figure()\n",
    "\n",
    "tau_ax = tau_fig.add_subplot(111)\n",
    "\n",
    "J_uppers = [6, 7, 8, 9, 10]\n",
    "taus = [2, 3, 2, 2, 2]\n",
    "\n",
    "tau_ax.plot(J_uppers, taus, 'ro-')"
   ]
  },
  {
   "cell_type": "markdown",
   "metadata": {},
   "source": [
    "Beam Dilution Correction\n",
    "========================\n",
    "\n",
    "\n",
    "Also, let's demonstrate how we got our source size measurement - the ALMA map would be a relevant thing to show here."
   ]
  },
  {
   "cell_type": "code",
   "execution_count": null,
   "metadata": {
    "collapsed": true
   },
   "outputs": [],
   "source": []
  },
  {
   "cell_type": "markdown",
   "metadata": {},
   "source": [
    "Observed state column densities\n",
    "===============================\n",
    "\n",
    "Putting all of the above (tau, source size, and integrated emission) together, we can compute the column densities of the observed upper states and sum them"
   ]
  },
  {
   "cell_type": "code",
   "execution_count": null,
   "metadata": {
    "collapsed": true
   },
   "outputs": [],
   "source": []
  },
  {
   "cell_type": "markdown",
   "metadata": {},
   "source": [
    "Correction Factor Estimation\n",
    "============================\n",
    "\n",
    "We think the relevant range of physical conditions is (blah).\n"
   ]
  },
  {
   "cell_type": "code",
   "execution_count": null,
   "metadata": {
    "collapsed": true
   },
   "outputs": [],
   "source": []
  },
  {
   "cell_type": "markdown",
   "metadata": {},
   "source": [
    "Finally, the HCN column density\n",
    "===============================\n",
    "\n",
    "Here it is - with uncertainties from the intensity measurements, isotope ratio / optical depth uncertainties, source size uncertanties, and the correction factor uncertainty."
   ]
  },
  {
   "cell_type": "code",
   "execution_count": null,
   "metadata": {
    "collapsed": true
   },
   "outputs": [],
   "source": []
  }
 ],
 "metadata": {
  "kernelspec": {
   "display_name": "Python 2",
   "language": "python",
   "name": "python2"
  },
  "language_info": {
   "codemirror_mode": {
    "name": "ipython",
    "version": 2
   },
   "file_extension": ".py",
   "mimetype": "text/x-python",
   "name": "python",
   "nbconvert_exporter": "python",
   "pygments_lexer": "ipython2",
   "version": "2.7.12"
  }
 },
 "nbformat": 4,
 "nbformat_minor": 0
}
